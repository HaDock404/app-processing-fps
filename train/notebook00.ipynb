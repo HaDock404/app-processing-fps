{
 "cells": [
  {
   "cell_type": "code",
   "execution_count": 1,
   "id": "c62f87d1",
   "metadata": {},
   "outputs": [],
   "source": [
    "import cv2\n",
    "import os"
   ]
  },
  {
   "cell_type": "code",
   "execution_count": 5,
   "id": "5b7b7ef0",
   "metadata": {},
   "outputs": [
    {
     "name": "stdout",
     "output_type": "stream",
     "text": [
      "✅ 701 images sauvegardées dans : video_processed_3\n"
     ]
    },
    {
     "name": "stderr",
     "output_type": "stream",
     "text": [
      "[mjpeg @ 0x7f97a31fa640] overread 8\n",
      "[mjpeg @ 0x7f97a31fa640] overread 8\n",
      "[mjpeg @ 0x7f97a31fa640] No JPEG data found in image\n"
     ]
    }
   ],
   "source": [
    "video_path = \"../data/video3.avi\"\n",
    "output_folder = \"video_processed_3\"\n",
    "images_per_second = 20\n",
    "\n",
    "os.makedirs(output_folder, exist_ok=True)\n",
    "\n",
    "cap = cv2.VideoCapture(video_path)\n",
    "\n",
    "fps_video = cap.get(cv2.CAP_PROP_FPS)\n",
    "frame_interval = int(fps_video / images_per_second)\n",
    "\n",
    "frame_count = 0\n",
    "image_count = 0\n",
    "\n",
    "while cap.isOpened():\n",
    "    ret, frame = cap.read()\n",
    "    if not ret:\n",
    "        break\n",
    "\n",
    "    if frame_count % frame_interval == 0:\n",
    "        image_filename = f\"{output_folder}/frame_{image_count:05d}.jpg\"\n",
    "        cv2.imwrite(image_filename, frame)\n",
    "        image_count += 1\n",
    "\n",
    "    frame_count += 1\n",
    "\n",
    "cap.release()\n",
    "print(f\"✅ {image_count} images sauvegardées dans : {output_folder}\")"
   ]
  },
  {
   "cell_type": "code",
   "execution_count": null,
   "id": "cd416c6e",
   "metadata": {},
   "outputs": [],
   "source": []
  }
 ],
 "metadata": {
  "kernelspec": {
   "display_name": "process-video",
   "language": "python",
   "name": "python3"
  },
  "language_info": {
   "codemirror_mode": {
    "name": "ipython",
    "version": 3
   },
   "file_extension": ".py",
   "mimetype": "text/x-python",
   "name": "python",
   "nbconvert_exporter": "python",
   "pygments_lexer": "ipython3",
   "version": "3.10.9"
  }
 },
 "nbformat": 4,
 "nbformat_minor": 5
}
