{
 "cells": [
  {
   "cell_type": "code",
   "execution_count": null,
   "id": "f74b5b65",
   "metadata": {},
   "outputs": [],
   "source": [
    "import cv2\n",
    "import os\n",
    "from natsort import natsorted\n",
    "\n",
    "# === Paramètres ===\n",
    "image_folder = \"chemin/vers/dossier_images\"  # Dossier contenant les images\n",
    "output_video = \"video_output.mp4\"            # Nom de la vidéo à créer\n",
    "fps = 20                                     # Images par seconde\n",
    "\n",
    "# === Liste triée des fichiers images ===\n",
    "images = [img for img in os.listdir(image_folder) if img.endswith((\".jpg\", \".png\"))]\n",
    "images = natsorted(images)  # Tri naturel : frame_1.jpg, frame_2.jpg, ..., frame_10.jpg\n",
    "\n",
    "# === Vérifie que le dossier contient des images ===\n",
    "if not images:\n",
    "    raise ValueError(\"Aucune image trouvée dans le dossier.\")\n",
    "\n",
    "# === Lit la première image pour obtenir la taille ===\n",
    "first_image_path = os.path.join(image_folder, images[0])\n",
    "frame = cv2.imread(first_image_path)\n",
    "height, width, _ = frame.shape\n",
    "\n",
    "# === Définition du codec et création de la vidéo ===\n",
    "fourcc = cv2.VideoWriter_fourcc(*'mp4v')  # Codec pour .mp4\n",
    "video = cv2.VideoWriter(output_video, fourcc, fps, (width, height))\n",
    "\n",
    "# === Ajout des images ===\n",
    "for image_name in images:\n",
    "    image_path = os.path.join(image_folder, image_name)\n",
    "    frame = cv2.imread(image_path)\n",
    "    if frame is None:\n",
    "        continue  # Ignore les images corrompues\n",
    "    video.write(frame)\n",
    "\n",
    "video.release()\n",
    "print(f\"🎞️ Vidéo créée avec succès : {output_video}\")\n"
   ]
  }
 ],
 "metadata": {
  "kernelspec": {
   "display_name": "process-video",
   "language": "python",
   "name": "python3"
  },
  "language_info": {
   "name": "python",
   "version": "3.10.9"
  }
 },
 "nbformat": 4,
 "nbformat_minor": 5
}
